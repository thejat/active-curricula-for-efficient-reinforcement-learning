{
 "cells": [
  {
   "cell_type": "code",
   "execution_count": 1,
   "metadata": {
    "collapsed": true
   },
   "outputs": [],
   "source": [
    "import numpy as np\n",
    "import matplotlib.pyplot as plt\n",
    "from pylab import savefig"
   ]
  },
  {
   "cell_type": "code",
   "execution_count": 59,
   "metadata": {
    "collapsed": false
   },
   "outputs": [],
   "source": [
    "X = [\n",
    "    (3768.3666666666668, ','),\n",
    "(3778.8333333333335, ','),\n",
    "(3852.0999999999999, ','),\n",
    "(3969.6999999999998, ','),\n",
    "(3792.3333333333335, ','),\n",
    "(3973.1666666666665, ','),\n",
    "(3809.9000000000001, ','),\n",
    "(3890.3666666666668, ','),\n",
    "(3839.0, ','),\n",
    "(3707.8333333333335, ','),\n",
    "(3653.5, ','),\n",
    "(3836.6999999999998, ','),\n",
    "(4485.333333333333, ','),\n",
    "(4194.2333333333336, ','),\n",
    "(4489.0333333333338, ','),\n",
    "(4260.3666666666668, ','),\n",
    "(4451.7666666666664, ','),\n",
    "(4415.1999999999998, ','),\n",
    "(5096.0666666666666, ','),\n",
    "(4833.1999999999998, ','),\n",
    "(4788.5666666666666, ','),\n",
    "(4747.2666666666664, ','),\n",
    "(5245.7333333333336, ','),\n",
    "(4882.8000000000002, ','),\n",
    "(7164.8000000000002, ',')\n",
    "]\n",
    "x = np.zeros(25)\n",
    "for i in range(25):\n",
    "    x[i] = X[i][0]"
   ]
  },
  {
   "cell_type": "code",
   "execution_count": 67,
   "metadata": {
    "collapsed": true
   },
   "outputs": [],
   "source": [
    "x = [\n",
    "    2456.06666667 ,\n",
    "2372.1 ,\n",
    "2549.16666667 ,\n",
    "2478.83333333 ,\n",
    "2455.86666667 ,\n",
    "2474.36666667 ,\n",
    "2491.9 ,\n",
    "2598.36666667 ,\n",
    "2510.33333333 ,\n",
    "2387.36666667 ,\n",
    "2392.46666667 ,\n",
    "2440.56666667 ,\n",
    "2996.5 ,\n",
    "3088.63333333 ,\n",
    "2953.16666667 ,\n",
    "2864.9 ,\n",
    "2894.5 ,\n",
    "2823.9 ,\n",
    "3568.03333333 ,\n",
    "3302.4 ,\n",
    "3373.9 ,\n",
    "3477.2 ,\n",
    "3162.83333333 ,\n",
    "3245.53333333 ,\n",
    "5295.1\n",
    "]"
   ]
  },
  {
   "cell_type": "code",
   "execution_count": 68,
   "metadata": {
    "collapsed": false,
    "scrolled": false
   },
   "outputs": [
    {
     "name": "stdout",
     "output_type": "stream",
     "text": [
      "[2456.06666667, 2372.1, 2549.16666667, 2478.83333333, 2455.86666667, 2474.36666667, 2491.9, 2598.36666667, 2510.33333333, 2387.36666667, 2392.46666667, 2440.56666667, 2996.5, 3088.63333333, 2953.16666667, 2864.9, 2894.5, 2823.9, 3568.03333333, 3302.4, 3373.9, 3477.2, 3162.83333333, 3245.53333333, 5295.1]\n"
     ]
    }
   ],
   "source": [
    "# x = np.array([ 3632.66666667,  3569.56666667 , 4064.63333333 , 3954.1      ,   3996.73333333,\n",
    "#   3927.4        , 3742.43333333 , 3835.86666667,  3762.66666667,  3946.33333333,\n",
    "#   3867.56666667  ,3889.3        , 4526.83333333 , 4774.6         ,4608.26666667,\n",
    "#   4268.43333333  ,4376.93333333 , 4226.23333333,  5017.06666667 , 5008.46666667,\n",
    "#   4598.9         ,4727.96666667,  4957.43333333 , 4760.73333333,  5352.53333333])\n",
    "print x # averaged over 30 round\n",
    "x  = x/np.amax(x)\n",
    "y = np.ones(25)"
   ]
  },
  {
   "cell_type": "code",
   "execution_count": 8,
   "metadata": {
    "collapsed": false
   },
   "outputs": [],
   "source": [
    "data = np.load(\"all_curr.npz\")\n",
    "data = data['STEP']\n",
    "rounds = data.shape[0]\n",
    "obs = data[0].shape[0]\n",
    "# print obs\n",
    "std = np.zeros(obs)\n",
    "x = np.zeros(obs)\n",
    "for i in range(obs):\n",
    "    a = np.array([])\n",
    "    for j in range(rounds):\n",
    "        a = np.append(a, data[j][i])\n",
    "    x[i] = np.mean(a)\n",
    "    std[i] = np.std(a)\n",
    "# print x, std\n",
    "std = std/np.amax(x)\n",
    "x  = x/np.amax(x)\n",
    "y = np.ones(27)\n",
    "y2 = np.arange(24)\n",
    "y3 = np.arange(27)\n",
    "y3 = y3-1"
   ]
  },
  {
   "cell_type": "code",
   "execution_count": 11,
   "metadata": {
    "collapsed": false,
    "scrolled": true
   },
   "outputs": [
    {
     "data": {
      "image/png": "[encoded data removed]",
      "text/plain": [
       "<matplotlib.figure.Figure at 0x7fee6b5bc510>"
      ]
     },
     "metadata": {},
     "output_type": "display_data"
    }
   ],
   "source": [
    "plt.plot(x[:-1], linewidth = 1.5, color = \"b\", marker = 'o', label = \"All curriculum\")\n",
    "# plt.plot(x[:-1], 'bo' )\n",
    "plt.errorbar(y2, x[:-1], std[:-1], linestyle='None', color = 'black')\n",
    "plt.plot(y3, y, color=\"red\", linewidth = 2, label=\"baseline\")\n",
    "plt.plot([0], x[0:1], 'ys', label = \"curriculum selected\")#' color=\"red\", linewidth = 2, label=\"baseline\")\n",
    "plt.legend(loc=6)\n",
    "plt.axis([-1, 25, 0.1, 1.1])\n",
    "plt.ylabel(\"Fraction of steps required for convergence\")\n",
    "plt.xlabel(\"Curriculum Number\")\n",
    "plt.show()\n",
    "# plt.savefig(\"res1.png\")"
   ]
  },
  {
   "cell_type": "code",
   "execution_count": null,
   "metadata": {
    "collapsed": true
   },
   "outputs": [],
   "source": []
  },
  {
   "cell_type": "code",
   "execution_count": null,
   "metadata": {
    "collapsed": true
   },
   "outputs": [],
   "source": []
  }
 ],
 "metadata": {
  "kernelspec": {
   "display_name": "Python 2",
   "language": "python",
   "name": "python2"
  },
  "language_info": {
   "codemirror_mode": {
    "name": "ipython",
    "version": 2
   },
   "file_extension": ".py",
   "mimetype": "text/x-python",
   "name": "python",
   "nbconvert_exporter": "python",
   "pygments_lexer": "ipython2",
   "version": "2.7.6"
  }
 },
 "nbformat": 4,
 "nbformat_minor": 0
}
