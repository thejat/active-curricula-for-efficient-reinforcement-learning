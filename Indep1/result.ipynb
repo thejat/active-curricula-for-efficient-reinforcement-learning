{
 "cells": [
  {
   "cell_type": "code",
   "execution_count": 12,
   "metadata": {
    "collapsed": true
   },
   "outputs": [],
   "source": [
    "import numpy as np\n",
    "import matplotlib.pyplot as plt"
   ]
  },
  {
   "cell_type": "code",
   "execution_count": 13,
   "metadata": {
    "collapsed": true
   },
   "outputs": [],
   "source": [
    "G = np.load(\"greedy.npz\")\n",
    "B = np.load(\"base.npz\")\n",
    "C = np.load(\"bc.npz\")\n",
    "I = np.load(\"inter.npz\")\n",
    "A = np.load(\"active.npz\")"
   ]
  },
  {
   "cell_type": "code",
   "execution_count": 14,
   "metadata": {
    "collapsed": false
   },
   "outputs": [],
   "source": [
    "gr = G['REWARD']\n",
    "gs = G['STEP']\n",
    "cr = C['REWARD']\n",
    "cs = C['STEP']\n",
    "br = B['BREWARD']\n",
    "bs = B['BSTEP']\n",
    "ir = I['REWARD']\n",
    "iS = I['STEP']\n",
    "ar = A['REWARD']\n",
    "aS = A['STEP']"
   ]
  },
  {
   "cell_type": "code",
   "execution_count": 15,
   "metadata": {
    "collapsed": false
   },
   "outputs": [
    {
     "name": "stdout",
     "output_type": "stream",
     "text": [
      "(8528,)\n"
     ]
    }
   ],
   "source": [
    "print br[0].shape"
   ]
  },
  {
   "cell_type": "code",
   "execution_count": 16,
   "metadata": {
    "collapsed": false
   },
   "outputs": [
    {
     "name": "stdout",
     "output_type": "stream",
     "text": [
      "9576 7789\n"
     ]
    }
   ],
   "source": [
    "mgs = -1\n",
    "sgs = 0\n",
    "for i in range(gr.shape[0]):\n",
    "    mgs = max(gr[i].shape[0], mgs)\n",
    "    sgs += gr[i].shape[0]\n",
    "print mgs, sgs/gr.shape[0]\n",
    "mgs = int(sgs/gr.shape[0])"
   ]
  },
  {
   "cell_type": "code",
   "execution_count": 17,
   "metadata": {
    "collapsed": false
   },
   "outputs": [
    {
     "name": "stdout",
     "output_type": "stream",
     "text": [
      "14045 8098\n"
     ]
    }
   ],
   "source": [
    "mbs = -1\n",
    "sbs = 0\n",
    "for i in range(br.shape[0]):\n",
    "    mbs = max(br[i].shape[0], mbs)\n",
    "    sbs += br[i].shape[0]\n",
    "print mbs, sbs/br.shape[0]\n",
    "mbs = int(sbs/br.shape[0])"
   ]
  },
  {
   "cell_type": "code",
   "execution_count": 18,
   "metadata": {
    "collapsed": false
   },
   "outputs": [
    {
     "name": "stdout",
     "output_type": "stream",
     "text": [
      "7953 5318\n"
     ]
    }
   ],
   "source": [
    "mcs = -1\n",
    "scs = 0\n",
    "for i in range(cr.shape[0]):\n",
    "    mcs = max(cr[i].shape[0], mcs)\n",
    "    scs += cr[i].shape[0]\n",
    "print mcs, scs/cr.shape[0]\n",
    "mcs = int(scs/cr.shape[0])"
   ]
  },
  {
   "cell_type": "code",
   "execution_count": 19,
   "metadata": {
    "collapsed": false
   },
   "outputs": [
    {
     "name": "stdout",
     "output_type": "stream",
     "text": [
      "14809 11105\n"
     ]
    }
   ],
   "source": [
    "mis = -1\n",
    "sis = 0\n",
    "for i in range(ir.shape[0]):\n",
    "    mis = max(ir[i].shape[0], mis)\n",
    "    sis += ir[i].shape[0]\n",
    "print mis, sis/ir.shape[0]\n",
    "mis = int(sis/ir.shape[0])"
   ]
  },
  {
   "cell_type": "code",
   "execution_count": 20,
   "metadata": {
    "collapsed": false
   },
   "outputs": [
    {
     "name": "stdout",
     "output_type": "stream",
     "text": [
      "7788 6298\n"
     ]
    }
   ],
   "source": [
    "mas = -1\n",
    "sas = 0\n",
    "for i in range(ar.shape[0]):\n",
    "    mas = max(ar[i].shape[0], mas)\n",
    "    sas += ar[i].shape[0]\n",
    "print mas, sas/ar.shape[0]\n",
    "mas = int(sas/ar.shape[0])"
   ]
  },
  {
   "cell_type": "code",
   "execution_count": 21,
   "metadata": {
    "collapsed": false
   },
   "outputs": [],
   "source": [
    "gstd = np.array([])\n",
    "gav = np.array([])\n",
    "for i in range(mgs):\n",
    "    a = np.array([])\n",
    "    for j in range(gr.shape[0]):\n",
    "        if(gr[j].shape[0] > i):\n",
    "            a = np.append(a, gr[j][i])\n",
    "    std = np.std(a)\n",
    "    av = np.mean(a)\n",
    "    gstd = np.append(gstd, std)\n",
    "    gav = np.append(gav, av)"
   ]
  },
  {
   "cell_type": "code",
   "execution_count": 22,
   "metadata": {
    "collapsed": false
   },
   "outputs": [],
   "source": [
    "bstd = np.array([])\n",
    "bav = np.array([])\n",
    "for i in range(mbs):\n",
    "    a = np.array([])\n",
    "    for j in range(br.shape[0]):\n",
    "        if(br[j].shape[0] > i):\n",
    "            a = np.append(a, br[j][i])\n",
    "    std = np.std(a)\n",
    "    av = np.mean(a)\n",
    "    bstd = np.append(bstd, std)\n",
    "    bav = np.append(bav, av)"
   ]
  },
  {
   "cell_type": "code",
   "execution_count": 23,
   "metadata": {
    "collapsed": true
   },
   "outputs": [],
   "source": [
    "cstd = np.array([])\n",
    "cav = np.array([])\n",
    "for i in range(mcs):\n",
    "    a = np.array([])\n",
    "    for j in range(cr.shape[0]):\n",
    "        if(cr[j].shape[0] > i):\n",
    "            a = np.append(a, cr[j][i])\n",
    "    std = np.std(a)\n",
    "    av = np.mean(a)\n",
    "    cstd = np.append(cstd, std)\n",
    "    cav = np.append(cav, av)"
   ]
  },
  {
   "cell_type": "code",
   "execution_count": 24,
   "metadata": {
    "collapsed": true
   },
   "outputs": [],
   "source": [
    "istd = np.array([])\n",
    "iav = np.array([])\n",
    "for i in range(mis):\n",
    "    a = np.array([])\n",
    "    for j in range(ir.shape[0]):\n",
    "        if(ir[j].shape[0] > i):\n",
    "            a = np.append(a, ir[j][i])\n",
    "    std = np.std(a)\n",
    "    av = np.mean(a)\n",
    "    istd = np.append(istd, std)\n",
    "    iav = np.append(iav, av)"
   ]
  },
  {
   "cell_type": "code",
   "execution_count": 25,
   "metadata": {
    "collapsed": true
   },
   "outputs": [],
   "source": [
    "astd = np.array([])\n",
    "aav = np.array([])\n",
    "for i in range(mas):\n",
    "    a = np.array([])\n",
    "    for j in range(ar.shape[0]):\n",
    "        if(ar[j].shape[0] > i):\n",
    "            a = np.append(a, ar[j][i])\n",
    "    std = np.std(a)\n",
    "    av = np.mean(a)\n",
    "    astd = np.append(astd, std)\n",
    "    aav = np.append(aav, av)"
   ]
  },
  {
   "cell_type": "code",
   "execution_count": 26,
   "metadata": {
    "collapsed": false
   },
   "outputs": [],
   "source": [
    "# print gstd\n",
    "# print gav\n",
    "x = np.linspace(0, mgs, mgs)\n",
    "y = np.linspace(0, mbs, mbs)\n",
    "z = np.linspace(0, mcs, mcs)\n",
    "w = np.linspace(0, mis, mis)\n",
    "v = np.linspace(0, mas, mas)\n",
    "# print x"
   ]
  },
  {
   "cell_type": "code",
   "execution_count": 32,
   "metadata": {
    "collapsed": false,
    "scrolled": false
   },
   "outputs": [
    {
     "data": {
      "image/png": "[encoded data removed]",
      "text/plain": [
       "<matplotlib.figure.Figure at 0x7fb298207510>"
      ]
     },
     "metadata": {},
     "output_type": "display_data"
    }
   ],
   "source": [
    "alpha = 0.5\n",
    "plt.plot(bav, linewidth = 2, color = \"black\", label = \"Baseline\")\n",
    "plt.fill_between(y, bav-bstd, bav+bstd, color = \"gainsboro\", alpha = alpha)\n",
    "\n",
    "# plt.plot(gav, linewidth = 2, color = \"brown\", label = \"RMGS\")\n",
    "# plt.fill_between(x, gav-gstd, gav+gstd, color = \"salmon\", alpha=alpha)\n",
    "\n",
    "plt.plot(iav, linewidth = 2, color = \"green\", label = \"LTMS\")\n",
    "plt.fill_between(w, iav-istd, iav+istd, color = \"greenyellow\",alpha=alpha)\n",
    "\n",
    "# plt.plot(cav, linewidth = 2, color = \"darkblue\", label = \"BCS\")\n",
    "# plt.fill_between(z, cav-cstd, cav+cstd, color = \"lightskyblue\", alpha = alpha)\n",
    "\n",
    "plt.plot(aav, linewidth = 2, color = \"m\", label = \"Active LTMS\")\n",
    "plt.fill_between(v, aav-astd, aav+astd, color = \"pink\", alpha = alpha)\n",
    "\n",
    "plt.legend(loc=4)\n",
    "plt.axis([0, 11500, -200, 1400])\n",
    "plt.ylabel(\"Total Reward Accumulated\", fontsize=14)\n",
    "plt.xlabel(\"Number of Steps Till Convergence\", fontsize=14)\n",
    "plt.show()"
   ]
  },
  {
   "cell_type": "markdown",
   "metadata": {
    "collapsed": true
   },
   "source": [
    "#### "
   ]
  },
  {
   "cell_type": "code",
   "execution_count": null,
   "metadata": {
    "collapsed": true
   },
   "outputs": [],
   "source": []
  }
 ],
 "metadata": {
  "kernelspec": {
   "display_name": "Python 2",
   "language": "python",
   "name": "python2"
  },
  "language_info": {
   "codemirror_mode": {
    "name": "ipython",
    "version": 2
   },
   "file_extension": ".py",
   "mimetype": "text/x-python",
   "name": "python",
   "nbconvert_exporter": "python",
   "pygments_lexer": "ipython2",
   "version": "2.7.6"
  }
 },
 "nbformat": 4,
 "nbformat_minor": 0
}
